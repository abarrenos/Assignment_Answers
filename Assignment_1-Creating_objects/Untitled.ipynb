{
 "cells": [
  {
   "cell_type": "code",
   "execution_count": 17,
   "id": "18e8d259",
   "metadata": {},
   "outputs": [
    {
     "ename": "LoadError",
     "evalue": "cannot load such file -- class_seed_stock",
     "output_type": "error",
     "traceback": [
      "\u001b[31mLoadError\u001b[0m: cannot load such file -- class_seed_stock",
      "<internal:/home/osboxes/.rvm/rubies/ruby-3.0.0/lib/ruby/site_ruby/3.0.0/rubygems/core_ext/kernel_require.rb>:85:in `require'",
      "<internal:/home/osboxes/.rvm/rubies/ruby-3.0.0/lib/ruby/site_ruby/3.0.0/rubygems/core_ext/kernel_require.rb>:85:in `require'",
      "(irb):1:in `<main>'"
     ]
    }
   ],
   "source": [
    "require 'csv'\n",
    "require 'class_seed_stock'\n",
    "\n",
    "class StockDB\n",
    "  attr_accessor :table\n",
    "  attr_accessor :headers\n",
    "  attr_accessor :stockpath\n",
    "  attr_accessor :tsvtable\n",
    "  \n",
    "  def initialize()\n",
    "  end\n",
    "\n",
    "  def load_from_file(stockpath:)\n",
    "    unless File.file?(stockpath)\n",
    "      return (\"File #{stockpath} doesn't exist\")\n",
    "    else\n",
    "      @table = CSV.read(File.open(stockpath), headers: true, col_sep: \"\\t\") # Importing stockfile as table\n",
    "      @stockpath = stockpath          # Seed_stock_data.tsv path\n",
    "      @seed_stock_list = Array.new  ## Empty array created to append gene objects.\n",
    "\n",
    "      # Conversion of genes into Gene objects\n",
    "      @table.each do |data|\n",
    "        seed_stock_object = SeedStock.new(seed_stock: data[0], mutant_gene_id: data[1], last_planted: data[2],\n",
    "        storage: data[3], grams_remaining: data[4])\n",
    "        @seed_stock_list << seed_stock_object\n",
    "      end\n",
    "      return @seed_stock_list\n",
    "    end \n",
    "  end\n",
    "\n",
    "end\n"
   ]
  },
  {
   "cell_type": "code",
   "execution_count": 10,
   "id": "0fc82b78",
   "metadata": {},
   "outputs": [
    {
     "ename": "NameError",
     "evalue": "uninitialized constant StockDB",
     "output_type": "error",
     "traceback": [
      "\u001b[31mNameError\u001b[0m: uninitialized constant StockDB",
      "(irb):1:in `<main>'"
     ]
    }
   ],
   "source": [
    "\n",
    "seed_stock_db = StockDB.new\n",
    "  \n",
    "seed_stock_db.class"
   ]
  },
  {
   "cell_type": "code",
   "execution_count": null,
   "id": "cdafc13e",
   "metadata": {},
   "outputs": [],
   "source": []
  }
 ],
 "metadata": {
  "kernelspec": {
   "display_name": "Ruby 3.0.0",
   "language": "ruby",
   "name": "ruby"
  },
  "language_info": {
   "file_extension": ".rb",
   "mimetype": "application/x-ruby",
   "name": "ruby",
   "version": "3.0.0"
  }
 },
 "nbformat": 4,
 "nbformat_minor": 5
}
