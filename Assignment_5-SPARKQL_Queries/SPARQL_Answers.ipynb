{
 "cells": [
  {
   "attachments": {},
   "cell_type": "markdown",
   "metadata": {},
   "source": [
    "## Assignment 5 SPARQL queries"
   ]
  },
  {
   "cell_type": "code",
   "execution_count": 38,
   "metadata": {
    "vscode": {
     "languageId": "sql"
    }
   },
   "outputs": [
    {
     "data": {
      "text/html": [
       "<div class=\"krn-spql\"><div class=\"magic\">Endpoint set to: https://sparql.uniprot.org/sparql</div><div class=\"magic\">Request format: JSON</div></div>"
      ],
      "text/plain": [
       "Endpoint set to: https://sparql.uniprot.org/sparql\n",
       "Request format: JSON\n"
      ]
     },
     "metadata": {},
     "output_type": "display_data"
    }
   ],
   "source": [
    "## Set endpoint\n",
    "%endpoint https://sparql.uniprot.org/sparql\n",
    "%format JSON"
   ]
  },
  {
   "attachments": {},
   "cell_type": "markdown",
   "metadata": {},
   "source": [
    "### Q1:\n",
    "\n",
    "Q:  How many protein records are in UniProt? \n",
    "\n",
    "A: This SPARQL query counts the number of proteins that are in the core namespace of Uniprot. It uses the COUNT function to do this, and then stores the number of proteins in the variable ?Protein_Records."
   ]
  },
  {
   "cell_type": "code",
   "execution_count": 3,
   "metadata": {
    "vscode": {
     "languageId": "sql"
    }
   },
   "outputs": [
    {
     "data": {
      "text/html": [
       "<div class=\"krn-spql\"><table><tr class=hdr><th>Protein_Records</th></tr><tr class=odd><td class=val>378979161</td></tr></table><div class=\"tinfo\">Total: 1, Shown: 1</div></div>"
      ]
     },
     "metadata": {},
     "output_type": "display_data"
    }
   ],
   "source": [
    "PREFIX core:<http://purl.uniprot.org/core/> \n",
    "\n",
    "SELECT (COUNT(?protein) AS ?Protein_Records) \n",
    "WHERE{ \n",
    "        ?protein a core:Protein .\n",
    "}"
   ]
  },
  {
   "attachments": {},
   "cell_type": "markdown",
   "metadata": {},
   "source": [
    "#### Q2:\n",
    "Q: How many Arabidopsis thaliana protein records are in UniProt? \n",
    "\n",
    "A: This SPARQL query is counting the number of distinct proteins from the organism Arabidopsis thaliana (taxon ID 3702). It is using the core and taxonomy prefixes from the UniProt database to access the necessary information."
   ]
  },
  {
   "cell_type": "code",
   "execution_count": 4,
   "metadata": {
    "vscode": {
     "languageId": "sql"
    }
   },
   "outputs": [
    {
     "data": {
      "text/html": [
       "<div class=\"krn-spql\"><table><tr class=hdr><th>A_Thaliana_Records</th></tr><tr class=odd><td class=val>136447</td></tr></table><div class=\"tinfo\">Total: 1, Shown: 1</div></div>"
      ]
     },
     "metadata": {},
     "output_type": "display_data"
    }
   ],
   "source": [
    "PREFIX core:<http://purl.uniprot.org/core/> \n",
    "PREFIX taxon:<http://purl.uniprot.org/taxonomy/>\n",
    "\n",
    "SELECT (COUNT(DISTINCT ?protein) AS ?A_Thaliana_Records)\n",
    "WHERE{ \n",
    "        ?protein a core:Protein .         \n",
    "        ?protein core:organism taxon:3702 .\n",
    "}\n"
   ]
  },
  {
   "attachments": {},
   "cell_type": "markdown",
   "metadata": {},
   "source": [
    "#### Q3:\n",
    "Q: retrieve pictures of Arabidopsis thaliana from UniProt? \n",
    "\n",
    "A: This SPARQL query retrieves the URI image associated with the species 'Arabidopsis thaliana' from the Uniprot Core ontology (up:) and the Friend of a Friend (foaf:) ontology."
   ]
  },
  {
   "cell_type": "code",
   "execution_count": 5,
   "metadata": {
    "vscode": {
     "languageId": "python"
    }
   },
   "outputs": [
    {
     "data": {
      "text/html": [
       "<div class=\"krn-spql\"><table><tr class=hdr><th>uri</th></tr><tr class=odd><td class=val><a href=\"https://upload.wikimedia.org/wikipedia/commons/3/39/Arabidopsis.jpg\" target=\"_other\">https://upload.wikimedia.org/wikipedia/commons/3/39/Arabidopsis.jpg</a></td></tr><tr class=even><td class=val><a href=\"https://upload.wikimedia.org/wikipedia/commons/thumb/6/60/Arabidopsis_thaliana_inflorescencias.jpg/800px-Arabidopsis_thaliana_inflorescencias.jpg\" target=\"_other\">https://upload.wikimedia.org/wikipedia/commons/thumb/6/60/Arabidopsis_thaliana_inflorescencias.jpg/800px-Arabidopsis_thaliana_inflorescencias.jpg</a></td></tr></table><div class=\"tinfo\">Total: 2, Shown: 2</div></div>"
      ]
     },
     "metadata": {},
     "output_type": "display_data"
    }
   ],
   "source": [
    "\n",
    "PREFIX up:<http://purl.uniprot.org/core/> \n",
    "PREFIX foaf:<http://xmlns.com/foaf/0.1/>\n",
    "\n",
    "SELECT ?uri\n",
    "WHERE {\n",
    "       ?taxon    foaf:depiction  ?uri .\n",
    "       ?taxon    up:scientificName   ?Species .\n",
    "       FILTER(CONTAINS(?Species, \"Arabidopsis thaliana\"))\n",
    "}"
   ]
  },
  {
   "attachments": {},
   "cell_type": "markdown",
   "metadata": {},
   "source": [
    "#### Q4:\n",
    "Q: What is the description of the enzyme activity of UniProt Protein Q9SZZ8\n",
    "\n",
    "A: This SPARQL query selects the description and enzyme of the protein for the Uniprot ID Q9SZZ8. It first finds the enzyme associated with the Uniprot ID, then looks for its activity, and finally obtains its description."
   ]
  },
  {
   "cell_type": "code",
   "execution_count": 7,
   "metadata": {
    "vscode": {
     "languageId": "python"
    }
   },
   "outputs": [
    {
     "data": {
      "text/html": [
       "<div class=\"krn-spql\"><table><tr class=hdr><th>description</th>\n",
       "<th>enzyme</th></tr><tr class=odd><td class=val>all-trans-beta-carotene + 4 H(+) + 2 O2 + 4 reduced [2Fe-2S]-[ferredoxin] = all-trans-zeaxanthin + 2 H2O + 4 oxidized [2Fe-2S]-[ferredoxin].</td>\n",
       "<td class=val><a href=\"http://purl.uniprot.org/enzyme/1.14.15.24\" target=\"_other\">http://purl.uniprot.org/enzyme/1.14.15.24</a></td></tr></table><div class=\"tinfo\">Total: 1, Shown: 1</div></div>"
      ]
     },
     "metadata": {},
     "output_type": "display_data"
    }
   ],
   "source": [
    "PREFIX core:<http://purl.uniprot.org/core/> \n",
    "PREFIX uniprot:<http://purl.uniprot.org/uniprot/> \n",
    "\n",
    "SELECT ?description ?enzyme\n",
    "WHERE {\n",
    "  uniprot:Q9SZZ8 a core:Protein ;          \n",
    "                   core:enzyme ?enzyme .\n",
    "  ?enzyme core:activity ?activity .        \n",
    "  ?activity rdfs:label ?description\n",
    "}"
   ]
  },
  {
   "attachments": {},
   "cell_type": "markdown",
   "metadata": {},
   "source": [
    "#### Q5:\n",
    "Q: Retrieve the proteins ids, and date of submission, for 5 proteins that have been added to UniProt this year   (HINT Google for “SPARQL FILTER by date”)\n",
    "\n",
    "A: This SPARQL query is looking for proteins that have been created on or after 2022/23-01-01, and is returning the ID and submission date of these proteins. The query is limited to the first 5 results.\n",
    "\n",
    "This explination helped: https://stackoverflow.com/questions/24051435/filter-by-date-range-in-sparql"
   ]
  },
  {
   "cell_type": "code",
   "execution_count": 9,
   "metadata": {
    "vscode": {
     "languageId": "python"
    }
   },
   "outputs": [
    {
     "data": {
      "text/html": [
       "<div class=\"krn-spql\"><table><tr class=hdr><th>id</th>\n",
       "<th>sumbitted_date</th></tr></table><div class=\"tinfo\">Total: 0, Shown: 0</div></div>"
      ]
     },
     "metadata": {},
     "output_type": "display_data"
    }
   ],
   "source": [
    "PREFIX core:<http://purl.uniprot.org/core/> \n",
    "\n",
    "SELECT ?id ?sumbitted_date\n",
    "WHERE{\n",
    "  ?protein a core:Protein .\n",
    "  ?protein core:mnemonic ?id .\n",
    "  ?protein core:created ?sumbitted_date .\n",
    "  FILTER (?sumbitted_date >= \"2023-01-01\"^^xsd:dateTime)\n",
    "} LIMIT 5\n"
   ]
  },
  {
   "attachments": {},
   "cell_type": "markdown",
   "metadata": {},
   "source": [
    "Zero results, although... I think this assignment was originally due in 2022 so:"
   ]
  },
  {
   "cell_type": "code",
   "execution_count": 10,
   "metadata": {
    "vscode": {
     "languageId": "python"
    }
   },
   "outputs": [
    {
     "data": {
      "text/html": [
       "<div class=\"krn-spql\"><table><tr class=hdr><th>id</th>\n",
       "<th>sumbitted_date</th></tr><tr class=odd><td class=val>A0A8E0N8L5_ECOLX</td>\n",
       "<td class=val>2022-01-19</td></tr><tr class=even><td class=val>A0A8F9CQZ7_ECOLX</td>\n",
       "<td class=val>2022-01-19</td></tr><tr class=odd><td class=val>A0A8F9ICG9_ECOLX</td>\n",
       "<td class=val>2022-01-19</td></tr><tr class=even><td class=val>A0A8F8WH98_PSEAI</td>\n",
       "<td class=val>2022-01-19</td></tr><tr class=odd><td class=val>A0A8F9NZK3_PSEAI</td>\n",
       "<td class=val>2022-01-19</td></tr></table><div class=\"tinfo\">Total: 5, Shown: 5</div></div>"
      ]
     },
     "metadata": {},
     "output_type": "display_data"
    }
   ],
   "source": [
    "PREFIX core:<http://purl.uniprot.org/core/> \n",
    "\n",
    "SELECT ?id ?sumbitted_date\n",
    "WHERE{\n",
    "  ?protein a core:Protein .\n",
    "  ?protein core:mnemonic ?id .\n",
    "  ?protein core:created ?sumbitted_date .\n",
    "  FILTER (?sumbitted_date >= \"2022-01-01\"^^xsd:dateTime)\n",
    "} LIMIT 5"
   ]
  },
  {
   "attachments": {},
   "cell_type": "markdown",
   "metadata": {},
   "source": [
    "#### Q6:\n",
    "Q: How  many species are in the UniProt taxonomy?\n",
    "\n",
    "A: This SPARQL query retrieves the number of distinct species from the core:Taxon class which have the core:rank of core:Species. This query will be useful for obtaining an overview of the species present in the uniprot dataset."
   ]
  },
  {
   "cell_type": "code",
   "execution_count": 12,
   "metadata": {
    "vscode": {
     "languageId": "python"
    }
   },
   "outputs": [
    {
     "data": {
      "text/html": [
       "<div class=\"krn-spql\"><table><tr class=hdr><th>Count</th></tr><tr class=odd><td class=val>1995728</td></tr></table><div class=\"tinfo\">Total: 1, Shown: 1</div></div>"
      ]
     },
     "metadata": {},
     "output_type": "display_data"
    }
   ],
   "source": [
    "PREFIX core:<http://purl.uniprot.org/core/> \n",
    "\n",
    "SELECT (COUNT(DISTINCT ?species) AS ?Count)\n",
    "WHERE{\n",
    "  ?species a core:Taxon .\n",
    "  ?species core:rank core:Species\n",
    "}"
   ]
  },
  {
   "attachments": {},
   "cell_type": "markdown",
   "metadata": {},
   "source": [
    "#### Q7:\n",
    "Q: How many species have at least one protein record? (this might take a long time to execute, so do this one last!)\n",
    "\n",
    "A: This code counts the number of distinct species that have proteins associated with them in the core:Protein class. It does this by looking for proteins with an associated species in the core:Taxon class, and then filtering for only those with a core:rank of core:Species. The resulting count is stored in the variable ?Count."
   ]
  },
  {
   "cell_type": "code",
   "execution_count": 14,
   "metadata": {
    "vscode": {
     "languageId": "python"
    }
   },
   "outputs": [
    {
     "data": {
      "text/html": [
       "<div class=\"krn-spql\"><table><tr class=hdr><th>Count</th></tr><tr class=odd><td class=val>1078469</td></tr></table><div class=\"tinfo\">Total: 1, Shown: 1</div></div>"
      ]
     },
     "metadata": {},
     "output_type": "display_data"
    }
   ],
   "source": [
    "PREFIX core: <http://purl.uniprot.org/core/>\n",
    "\n",
    "SELECT (COUNT(DISTINCT ?species) AS ?Count)\n",
    "WHERE \n",
    "{\n",
    "    ?protein a core:Protein .\n",
    "    ?protein core:organism ?species .\n",
    "    ?species a core:Taxon . \n",
    "    ?species core:rank core:Species . \n",
    "}"
   ]
  },
  {
   "attachments": {},
   "cell_type": "markdown",
   "metadata": {},
   "source": [
    "#### Q8:\n",
    "\n",
    "Q: find the AGI codes and gene names for all Arabidopsis thaliana  proteins that have a protein function annotation description that mentions “pattern formation”\n",
    "\n",
    "A: This SPARQL code is used to retrieve the AGI_ID and gene name of all genes in Arabidopsis thaliana that are related to pattern formation. The query first filters to only proteins that are encoded by genes in Arabidopsis thaliana and have a function annotation, then checks if the annotation contains the phrase \"pattern formation\". Finally, the AGI_ID and gene name are retrieved from the gene that encodes the protein."
   ]
  },
  {
   "cell_type": "code",
   "execution_count": 37,
   "metadata": {
    "vscode": {
     "languageId": "python"
    }
   },
   "outputs": [
    {
     "data": {
      "text/html": [
       "<div class=\"krn-spql\"><table><tr class=hdr><th>AGI_ID</th>\n",
       "<th>gene_name</th></tr><tr class=odd><td class=val>At1g13980</td>\n",
       "<td class=val>GN</td></tr><tr class=even><td class=val>At3g02130</td>\n",
       "<td class=val>RPK2</td></tr><tr class=odd><td class=val>At1g69270</td>\n",
       "<td class=val>RPK1</td></tr><tr class=even><td class=val>At5g37800</td>\n",
       "<td class=val>RSL1</td></tr><tr class=odd><td class=val>At1g26830</td>\n",
       "<td class=val>CUL3A</td></tr><tr class=even><td class=val>At1g66470</td>\n",
       "<td class=val>RHD6</td></tr><tr class=odd><td class=val>At3g09090</td>\n",
       "<td class=val>DEX1</td></tr><tr class=even><td class=val>At5g55250</td>\n",
       "<td class=val>IAMT1</td></tr><tr class=odd><td class=val>At1g63700</td>\n",
       "<td class=val>YDA</td></tr><tr class=even><td class=val>At4g21750</td>\n",
       "<td class=val>ATML1</td></tr><tr class=odd><td class=val>At1g69670</td>\n",
       "<td class=val>CUL3B</td></tr><tr class=even><td class=val>At5g02010</td>\n",
       "<td class=val>ROPGEF7</td></tr><tr class=odd><td class=val>At4g37650</td>\n",
       "<td class=val>SHR</td></tr><tr class=even><td class=val>At3g54220</td>\n",
       "<td class=val>SCR</td></tr><tr class=odd><td class=val>At2g46710</td>\n",
       "<td class=val>ROPGAP3</td></tr><tr class=even><td class=val>At2g42580</td>\n",
       "<td class=val>TTL3</td></tr><tr class=odd><td class=val>At5g40260</td>\n",
       "<td class=val>SWEET8</td></tr></table><div class=\"tinfo\">Total: 17, Shown: 17</div></div>"
      ]
     },
     "metadata": {},
     "output_type": "display_data"
    }
   ],
   "source": [
    "PREFIX skos:<http://www.w3.org/2004/02/skos/core#> \n",
    "PREFIX core:<http://purl.uniprot.org/core/> \n",
    "PREFIX taxon:<http://purl.uniprot.org/taxonomy/> \n",
    "\n",
    "SELECT ?AGI_ID ?gene_name\n",
    "WHERE{ \n",
    "    \n",
    "    ?protein core:organism taxon:3702 .     #From A. Thaliana\n",
    "    ?protein a core:Protein .               # Is a protein\n",
    "    ?protein core:annotation ?annotation .  \n",
    "    ?annotation a core:Function_Annotation . #Has an annotation\n",
    "    ?annotation rdfs:comment ?description . # has a description\n",
    "    ?protein core:encodedBy ?gene .         #Fine gene inciding it\n",
    "    ?gene core:locusName ?AGI_ID .        #Get its AGI\n",
    "    ?gene skos:prefLabel ?gene_name .       #Get its name\n",
    "\n",
    "    FILTER CONTAINS(?description, \"pattern formation\")\n",
    "    \n",
    "}"
   ]
  },
  {
   "attachments": {},
   "cell_type": "markdown",
   "metadata": {},
   "source": [
    "#### Q9:\n",
    "Q: what is the MetaNetX Reaction identifier (starts with “mnxr”) for the UniProt Protein uniprotkb:Q18A79\n",
    "\n",
    "A: This query is looking for any reactions that contain the string \"mnxr\" and are catalyzed by proteins with a UniProt ID of Q18A79. It is using the SPARQL PREFIXes meta and uniprot to define the namespaces used in the query. It is then using the meta:peptXref predicate to find the protein with the given UniProt ID, followed by the meta:pept and meta:cata predicates to find the reactions catalyzed by that protein. Finally, the rdfs:label predicate is used to get the reaction ID and filter for only those containing \"mnxr\"."
   ]
  },
  {
   "cell_type": "code",
   "execution_count": 28,
   "metadata": {
    "vscode": {
     "languageId": "python"
    }
   },
   "outputs": [
    {
     "data": {
      "text/html": [
       "<div class=\"krn-spql\"><div class=\"magic\">Endpoint set to: https://rdf.metanetx.org/sparql</div></div>"
      ],
      "text/plain": [
       "Endpoint set to: https://rdf.metanetx.org/sparql\n"
      ]
     },
     "metadata": {},
     "output_type": "display_data"
    }
   ],
   "source": [
    "%endpoint https://rdf.metanetx.org/sparql "
   ]
  },
  {
   "cell_type": "code",
   "execution_count": 29,
   "metadata": {
    "vscode": {
     "languageId": "python"
    }
   },
   "outputs": [
    {
     "data": {
      "text/html": [
       "<div class=\"krn-spql\"><table><tr class=hdr><th>pept</th>\n",
       "<th>react_ID</th></tr><tr class=odd><td class=val><a href=\"https://rdf.metanetx.org/pept/GLGA_CLOD6\" target=\"_other\">https://rdf.metanetx.org/pept/GLGA_CLOD6</a></td>\n",
       "<td class=val>mnxr165934</td></tr><tr class=even><td class=val><a href=\"https://rdf.metanetx.org/pept/GLGA_CLOD6\" target=\"_other\">https://rdf.metanetx.org/pept/GLGA_CLOD6</a></td>\n",
       "<td class=val>mnxr145046c3</td></tr></table><div class=\"tinfo\">Total: 2, Shown: 2</div></div>"
      ]
     },
     "metadata": {},
     "output_type": "display_data"
    }
   ],
   "source": [
    "PREFIX meta: <https://rdf.metanetx.org/schema/>\n",
    "PREFIX uniprot: <http://purl.uniprot.org/uniprot/>\n",
    "\n",
    "SELECT DISTINCT ?pept ?react_ID\n",
    "WHERE{\n",
    "    ?pept meta:peptXref uniprot:Q18A79 . \n",
    "    ?catalyzes meta:pept ?pept .\n",
    "    ?gpr meta:cata ?catalyzes ; meta:reac ?reaction .\n",
    "    ?reaction rdfs:label ?react_ID . \n",
    "    FILTER CONTAINS(?react_ID, 'mnxr')\n",
    "}"
   ]
  },
  {
   "attachments": {},
   "cell_type": "markdown",
   "metadata": {},
   "source": [
    "### FEDERATED QUERY - UniProt and MetaNetX\n",
    "\n",
    "#### Q10:\n",
    "Q: What is the official locus name, and the MetaNetX Reaction identifier (mnxr…..) for the protein that has “glycine reductase” catalytic activity in Clostridium difficile (taxon 272563).   (this must be executed on the https://rdf.metanetx.org/sparql   endpoint)\n",
    "\n",
    "A: This is a Federated SPARQL query that combines data from two different sources (Uniprot and Metanetx) to return information about proteins that are classified with a particular term (in this case, \"glycine reductase\") and the reaction IDs associated with them."
   ]
  },
  {
   "cell_type": "code",
   "execution_count": 30,
   "metadata": {
    "vscode": {
     "languageId": "python"
    }
   },
   "outputs": [
    {
     "data": {
      "text/html": [
       "<div class=\"krn-spql\"><div class=\"magic\">Endpoint set to: https://rdf.metanetx.org/sparql</div></div>"
      ],
      "text/plain": [
       "Endpoint set to: https://rdf.metanetx.org/sparql\n"
      ]
     },
     "metadata": {},
     "output_type": "display_data"
    }
   ],
   "source": [
    "%endpoint https://rdf.metanetx.org/sparql  "
   ]
  },
  {
   "cell_type": "code",
   "execution_count": 34,
   "metadata": {
    "vscode": {
     "languageId": "python"
    }
   },
   "outputs": [
    {
     "data": {
      "text/html": [
       "<div class=\"krn-spql\"><table><tr class=hdr><th>protein</th>\n",
       "<th>loc_ID</th>\n",
       "<th>react_ID</th></tr><tr class=odd><td class=val><a href=\"http://purl.uniprot.org/uniprot/Q185M4\" target=\"_other\">http://purl.uniprot.org/uniprot/Q185M4</a></td>\n",
       "<td class=val>CD630_23490</td>\n",
       "<td class=val>mnxr157884c3</td></tr><tr class=even><td class=val><a href=\"http://purl.uniprot.org/uniprot/Q185M4\" target=\"_other\">http://purl.uniprot.org/uniprot/Q185M4</a></td>\n",
       "<td class=val>CD630_23490</td>\n",
       "<td class=val>mnxr162774c3</td></tr><tr class=odd><td class=val><a href=\"http://purl.uniprot.org/uniprot/Q185M6\" target=\"_other\">http://purl.uniprot.org/uniprot/Q185M6</a></td>\n",
       "<td class=val>CD630_23520</td>\n",
       "<td class=val>mnxr157884c3</td></tr><tr class=even><td class=val><a href=\"http://purl.uniprot.org/uniprot/Q185M6\" target=\"_other\">http://purl.uniprot.org/uniprot/Q185M6</a></td>\n",
       "<td class=val>CD630_23520</td>\n",
       "<td class=val>mnxr162774c3</td></tr><tr class=odd><td class=val><a href=\"http://purl.uniprot.org/uniprot/Q185M3\" target=\"_other\">http://purl.uniprot.org/uniprot/Q185M3</a></td>\n",
       "<td class=val>CD630_23510</td>\n",
       "<td class=val>mnxr157884c3</td></tr><tr class=even><td class=val><a href=\"http://purl.uniprot.org/uniprot/Q185M3\" target=\"_other\">http://purl.uniprot.org/uniprot/Q185M3</a></td>\n",
       "<td class=val>CD630_23510</td>\n",
       "<td class=val>mnxr162774c3</td></tr><tr class=odd><td class=val><a href=\"http://purl.uniprot.org/uniprot/Q185M5\" target=\"_other\">http://purl.uniprot.org/uniprot/Q185M5</a></td>\n",
       "<td class=val>CD630_23540</td>\n",
       "<td class=val>mnxr157884c3</td></tr><tr class=even><td class=val><a href=\"http://purl.uniprot.org/uniprot/Q185M1\" target=\"_other\">http://purl.uniprot.org/uniprot/Q185M1</a></td>\n",
       "<td class=val>CD630_23480</td>\n",
       "<td class=val>mnxr157884c3</td></tr><tr class=odd><td class=val><a href=\"http://purl.uniprot.org/uniprot/Q185M1\" target=\"_other\">http://purl.uniprot.org/uniprot/Q185M1</a></td>\n",
       "<td class=val>CD630_23480</td>\n",
       "<td class=val>mnxr162774c3</td></tr></table><div class=\"tinfo\">Total: 9, Shown: 9</div></div>"
      ]
     },
     "metadata": {},
     "output_type": "display_data"
    }
   ],
   "source": [
    "PREFIX taxon: <http://purl.uniprot.org/taxonomy/>\n",
    "PREFIX mnx: <https://rdf.metanetx.org/schema/>\n",
    "PREFIX rdfs: <http://www.w3.org/2000/01/rdf-schema#>\n",
    "PREFIX rdf: <http://www.w3.org/1999/02/22-rdf-syntax-ns#>\n",
    "PREFIX up: <http://purl.uniprot.org/core/>\n",
    "\n",
    "\n",
    "SELECT ?protein ?loc_ID ?react_ID\n",
    "\n",
    "### Uniprot part\n",
    "WHERE {\n",
    "SERVICE <http://sparql.uniprot.org/sparql> {\n",
    "        select distinct ?loc_ID ?protein\n",
    "\n",
    "WHERE {\n",
    "?protein rdf:type up:Protein ; \n",
    "         up:organism taxon:272563 ;\n",
    "         up:encodedBy ?gene ; \n",
    "         up:classifiedWith ?term .\n",
    "?gene up:locusName ?loc_ID . \n",
    "?term rdfs:label ?info . \n",
    "FILTER (CONTAINS (?info, \"glycine reductase\")) \n",
    "}\n",
    "}\n",
    "\n",
    "## Metanetx part\n",
    "SERVICE <https://rdf.metanetx.org/sparql> {\n",
    "    select distinct ?protein ?react_ID\n",
    " WHERE {\n",
    "     ?prot mnx:peptXref ?protein .\n",
    "     ?catalyst rdf:type mnx:CATA ;\n",
    "               mnx:pept ?prot .\n",
    "     ?gpr mnx:cata ?catalyst ;\n",
    "                     mnx:reac ?reaction .\n",
    "     ?reaction rdfs:label ?react_ID . \n",
    " } \n",
    "}\n",
    "}"
   ]
  },
  {
   "attachments": {},
   "cell_type": "markdown",
   "metadata": {},
   "source": [
    "### Sources:\n",
    "1. https://www.metanetx.org/cgi-bin/mnxget/mnxref/MetaNetX_RDF_schema.pdf\n",
    "2. https://stackoverflow.com/questions/24051435/filter-by-date-range-in-sparql"
   ]
  },
  {
   "cell_type": "markdown",
   "metadata": {},
   "source": []
  }
 ],
 "metadata": {
  "kernelspec": {
   "display_name": "SPARQL",
   "language": "sparql",
   "name": "sparql"
  },
  "language_info": {
   "codemirror_mode": {
    "name": "sparql"
   },
   "mimetype": "application/sparql-query",
   "name": "sparql",
   "pygments_lexer": "sparql-nb"
  },
  "orig_nbformat": 4,
  "vscode": {
   "interpreter": {
    "hash": "2f70c2c6f75f001c2435d8036b6cc1833b789af896ffe22ab30918cedbc10c86"
   }
  }
 },
 "nbformat": 4,
 "nbformat_minor": 2
}
